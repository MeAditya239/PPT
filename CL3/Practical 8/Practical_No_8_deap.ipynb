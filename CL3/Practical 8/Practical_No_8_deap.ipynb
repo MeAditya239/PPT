{
 "cells": [
  {
   "cell_type": "markdown",
   "id": "a75838b6",
   "metadata": {
    "colab_type": "text",
    "id": "view-in-github"
   },
   "source": [
    "<a href=\"https://colab.research.google.com/github/atharva-githubcom/cl-pratical/blob/main/Practical_No_8.ipynb\" target=\"_parent\"><img src=\"https://colab.research.google.com/assets/colab-badge.svg\" alt=\"Open In Colab\"/></a>"
   ]
  },
  {
   "cell_type": "markdown",
   "id": "6e71728b-bd74-4d1e-b2bc-7417bbac6c8a",
   "metadata": {
    "id": "6e71728b-bd74-4d1e-b2bc-7417bbac6c8a"
   },
   "source": [
    "Implement DEAP (Distributed Evolutionary Algorithms) using Python"
   ]
  },
  {
   "cell_type": "code",
   "execution_count": 27,
   "id": "e8d67771-762f-4356-a9f5-7bf87f6db4ad",
   "metadata": {
    "colab": {
     "base_uri": "https://localhost:8080/"
    },
    "id": "e8d67771-762f-4356-a9f5-7bf87f6db4ad",
    "outputId": "a14f6926-ffb6-4c7d-b139-20152c65f547"
   },
   "outputs": [
    {
     "name": "stdout",
     "output_type": "stream",
     "text": [
      "Requirement already satisfied: deap in c:\\users\\adity\\anaconda3\\lib\\site-packages (1.4.3)\n",
      "Requirement already satisfied: numpy in c:\\users\\adity\\anaconda3\\lib\\site-packages (from deap) (1.26.4)\n",
      "Note: you may need to restart the kernel to use updated packages.\n"
     ]
    }
   ],
   "source": [
    "pip install deap"
   ]
  },
  {
   "cell_type": "code",
   "execution_count": 28,
   "id": "47df6771-ff2f-420c-9a1a-53599e0f867c",
   "metadata": {
    "id": "47df6771-ff2f-420c-9a1a-53599e0f867c"
   },
   "outputs": [],
   "source": [
    "\n",
    "import random\n",
    "from deap import base, creator, tools, algorithms\n"
   ]
  },
  {
   "cell_type": "code",
   "execution_count": 29,
   "id": "c8a9cd6c-b6f1-43f4-b4d3-f1f5ac27abd9",
   "metadata": {
    "id": "c8a9cd6c-b6f1-43f4-b4d3-f1f5ac27abd9"
   },
   "outputs": [],
   "source": [
    "# Define the evaluation function (minimize a simple mathematical function)\n",
    "def eval_func(individual):\n",
    "    # Example evaluation function (minimize a quadratic function)\n",
    "    return sum(x ** 2 for x in individual),\n"
   ]
  },
  {
   "cell_type": "code",
   "execution_count": 30,
   "id": "6ad8da53-c13f-46a4-bc2c-a86dfff44b90",
   "metadata": {
    "id": "6ad8da53-c13f-46a4-bc2c-a86dfff44b90"
   },
   "outputs": [
    {
     "name": "stderr",
     "output_type": "stream",
     "text": [
      "C:\\Users\\adity\\anaconda3\\Lib\\site-packages\\deap\\creator.py:185: RuntimeWarning: A class named 'FitnessMin' has already been created and it will be overwritten. Consider deleting previous creation of that class or rename it.\n",
      "  warnings.warn(\"A class named '{0}' has already been created and it \"\n",
      "C:\\Users\\adity\\anaconda3\\Lib\\site-packages\\deap\\creator.py:185: RuntimeWarning: A class named 'Individual' has already been created and it will be overwritten. Consider deleting previous creation of that class or rename it.\n",
      "  warnings.warn(\"A class named '{0}' has already been created and it \"\n"
     ]
    }
   ],
   "source": [
    "# DEAP setup\n",
    "creator.create(\"FitnessMin\", base.Fitness, weights=(-1.0,))\n",
    "creator.create(\"Individual\", list, fitness=creator.FitnessMin)\n",
    "\n",
    "toolbox = base.Toolbox()\n"
   ]
  },
  {
   "cell_type": "code",
   "execution_count": 31,
   "id": "03182d48-422d-4840-b15e-284daf86b737",
   "metadata": {
    "id": "03182d48-422d-4840-b15e-284daf86b737"
   },
   "outputs": [],
   "source": [
    "# Define attributes and individuals\n",
    "toolbox.register(\"attr_float\", random.uniform, -5.0, 5.0)  # Example: Float values between -5 and 5\n",
    "toolbox.register(\"individual\", tools.initRepeat, creator.Individual, toolbox.attr_float, n=3)  # Example: 3-dimensional individual\n",
    "toolbox.register(\"population\", tools.initRepeat, list, toolbox.individual)\n"
   ]
  },
  {
   "cell_type": "code",
   "execution_count": 32,
   "id": "0959295d-b35c-444c-b444-bad859fabfd1",
   "metadata": {
    "id": "0959295d-b35c-444c-b444-bad859fabfd1"
   },
   "outputs": [],
   "source": [
    "# Evaluation function and genetic operators\n",
    "toolbox.register(\"evaluate\", eval_func)\n",
    "toolbox.register(\"mate\", tools.cxBlend, alpha=0.5)\n",
    "toolbox.register(\"mutate\", tools.mutGaussian, mu=0, sigma=1, indpb=0.2)\n",
    "toolbox.register(\"select\", tools.selTournament, tournsize=3)\n"
   ]
  },
  {
   "cell_type": "code",
   "execution_count": 33,
   "id": "fe9f99b2-4c0e-4318-84d2-6098da7d4ac9",
   "metadata": {
    "id": "fe9f99b2-4c0e-4318-84d2-6098da7d4ac9"
   },
   "outputs": [],
   "source": [
    "# Create population\n",
    "population = toolbox.population(n=50)"
   ]
  },
  {
   "cell_type": "code",
   "execution_count": 34,
   "id": "216e7a5e-0efb-4e5b-a677-fe4aae30ec54",
   "metadata": {
    "id": "216e7a5e-0efb-4e5b-a677-fe4aae30ec54"
   },
   "outputs": [],
   "source": [
    "# Genetic Algorithm parameters\n",
    "generations = 20\n"
   ]
  },
  {
   "cell_type": "code",
   "execution_count": 35,
   "id": "fa446125-894c-4e41-9dff-345663a39abf",
   "metadata": {
    "id": "fa446125-894c-4e41-9dff-345663a39abf"
   },
   "outputs": [],
   "source": [
    "# Run the algorithm\n",
    "for gen in range(generations):\n",
    "    offspring = algorithms.varAnd(population, toolbox, cxpb=0.5, mutpb=0.1)\n",
    "\n",
    "    fits = toolbox.map(toolbox.evaluate, offspring)\n",
    "    for fit, ind in zip(fits, offspring):\n",
    "        ind.fitness.values = fit\n",
    "\n",
    "    population = toolbox.select(offspring, k=len(population))\n"
   ]
  },
  {
   "cell_type": "code",
   "execution_count": 36,
   "id": "b4d84423-f97e-498d-8cd0-65407835b2ec",
   "metadata": {
    "colab": {
     "base_uri": "https://localhost:8080/"
    },
    "id": "b4d84423-f97e-498d-8cd0-65407835b2ec",
    "outputId": "54072cde-bae3-4e1c-c076-401352cc1848"
   },
   "outputs": [
    {
     "name": "stdout",
     "output_type": "stream",
     "text": [
      "Best individual: [0.007208620224793932, -0.06347990085023798, -0.001484787321039857]\n",
      "Best fitness: 0.004083866610890074\n"
     ]
    }
   ],
   "source": [
    "# Get the best individual after generations\n",
    "best_ind = tools.selBest(population, k=1)[0]\n",
    "best_fitness = best_ind.fitness.values[0]\n",
    "\n",
    "print(\"Best individual:\", best_ind)\n",
    "print(\"Best fitness:\", best_fitness)"
   ]
  },
  {
   "cell_type": "code",
   "execution_count": null,
   "id": "30cfa073-97fb-4d11-8f4b-f1574d61772f",
   "metadata": {
    "id": "30cfa073-97fb-4d11-8f4b-f1574d61772f"
   },
   "outputs": [],
   "source": []
  }
 ],
 "metadata": {
  "colab": {
   "include_colab_link": true,
   "provenance": []
  },
  "kernelspec": {
   "display_name": "Python 3 (ipykernel)",
   "language": "python",
   "name": "python3"
  },
  "language_info": {
   "codemirror_mode": {
    "name": "ipython",
    "version": 3
   },
   "file_extension": ".py",
   "mimetype": "text/x-python",
   "name": "python",
   "nbconvert_exporter": "python",
   "pygments_lexer": "ipython3",
   "version": "3.12.7"
  }
 },
 "nbformat": 4,
 "nbformat_minor": 5
}
