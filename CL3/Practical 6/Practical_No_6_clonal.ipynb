{
 "cells": [
  {
   "cell_type": "markdown",
   "id": "753b4b77",
   "metadata": {
    "colab_type": "text",
    "id": "view-in-github"
   },
   "source": [
    "<a href=\"https://colab.research.google.com/github/atharva-githubcom/cl-pratical/blob/main/Practical_No_6.ipynb\" target=\"_parent\"><img src=\"https://colab.research.google.com/assets/colab-badge.svg\" alt=\"Open In Colab\"/></a>"
   ]
  },
  {
   "cell_type": "markdown",
   "id": "c23c9579-6553-41f2-9970-2b3f29beeda9",
   "metadata": {
    "id": "c23c9579-6553-41f2-9970-2b3f29beeda9"
   },
   "source": [
    "Implementation of Clonal selection algorithm using Python.\n"
   ]
  },
  {
   "cell_type": "code",
   "execution_count": 1,
   "id": "7cadabf6-9038-425b-9fe1-17a2a21a07f4",
   "metadata": {
    "id": "7cadabf6-9038-425b-9fe1-17a2a21a07f4"
   },
   "outputs": [],
   "source": [
    "import random\n",
    "import numpy as np"
   ]
  },
  {
   "cell_type": "code",
   "execution_count": 2,
   "id": "78170c35-f94c-420c-ae03-8268f130f555",
   "metadata": {
    "id": "78170c35-f94c-420c-ae03-8268f130f555"
   },
   "outputs": [],
   "source": [
    "# Define objective function (fitness function)\n",
    "def objective_function(x):\n",
    "    # Example: Sphere function\n",
    "    return sum([i**2 for i in x])"
   ]
  },
  {
   "cell_type": "code",
   "execution_count": 3,
   "id": "8af86836-0ac6-4f3b-b4b0-e64a97a63556",
   "metadata": {
    "id": "8af86836-0ac6-4f3b-b4b0-e64a97a63556"
   },
   "outputs": [],
   "source": [
    "# Define Clonal Selection Algorithm\n",
    "def clonal_selection_algorithm(dimensions, num_candidates, num_clones, mutation_rate, max_iterations):\n",
    "    # Initialize population with random solutions\n",
    "    population = [np.random.uniform(-5, 5, dimensions) for _ in range(num_candidates)]\n",
    "\n",
    "    for iteration in range(max_iterations):\n",
    "        # Evaluate fitness of each candidate solution\n",
    "        fitness = [objective_function(candidate) for candidate in population]\n",
    "\n",
    "        # Sort candidates by fitness\n",
    "        sorted_indices = np.argsort(fitness)\n",
    "        population = [population[i] for i in sorted_indices]\n",
    "\n",
    "        # Select top candidates for cloning\n",
    "        clones = population[:num_clones]\n",
    "\n",
    "        # Clone candidates\n",
    "        clones = [clone for candidate in clones for clone in [candidate] * num_clones]\n",
    "\n",
    "        # Mutate clones\n",
    "        for i in range(len(clones)):\n",
    "            for j in range(dimensions):\n",
    "                if random.random() < mutation_rate:\n",
    "                    clones[i][j] += random.uniform(-0.5, 0.5)  # Add small random value\n",
    "\n",
    "        # Evaluate fitness of clones\n",
    "        clone_fitness = [objective_function(clone) for clone in clones]\n",
    "\n",
    "        # Select top clones\n",
    "        population = [clones[i] for i in np.argsort(clone_fitness)[:num_candidates]]\n",
    "\n",
    "        # Output best candidate solution in this iteration\n",
    "        print(f\"Iteration {iteration+1}: Best solution - {population[0]}, Fitness - {clone_fitness[0]}\")\n",
    "\n",
    "    # Return the best solution found\n",
    "    best_solution = population[0]\n",
    "    best_fitness = objective_function(best_solution)\n",
    "    return best_solution, best_fitness"
   ]
  },
  {
   "cell_type": "code",
   "execution_count": 4,
   "id": "b81bd531-f38a-47fd-a096-12808e658acb",
   "metadata": {
    "id": "b81bd531-f38a-47fd-a096-12808e658acb"
   },
   "outputs": [],
   "source": [
    "# Example usage\n",
    "dimensions = 3\n",
    "num_candidates = 20\n",
    "num_clones = 10\n",
    "mutation_rate = 0.1\n",
    "max_iterations = 50"
   ]
  },
  {
   "cell_type": "code",
   "execution_count": 5,
   "id": "06a6e39e-032b-4476-ae6e-1700876afeab",
   "metadata": {
    "colab": {
     "base_uri": "https://localhost:8080/"
    },
    "id": "06a6e39e-032b-4476-ae6e-1700876afeab",
    "outputId": "5914c032-1486-4136-f591-e8d77218a319"
   },
   "outputs": [
    {
     "name": "stdout",
     "output_type": "stream",
     "text": [
      "Iteration 1: Best solution - [0.32742994 1.09278911 0.20953543], Fitness - 1.345303507261634\n",
      "Iteration 2: Best solution - [1.20062512 0.60220855 0.5250343 ], Fitness - 2.079816836712204\n",
      "Iteration 3: Best solution - [-0.4448005   2.20102072  0.4930663 ], Fitness - 5.285454056439132\n",
      "Iteration 4: Best solution - [-0.49889548  2.22037161 -0.03247167], Fitness - 5.180001215259505\n",
      "Iteration 5: Best solution - [-1.71707609  3.13353083 -0.16446186], Fitness - 12.794413429927781\n",
      "Iteration 6: Best solution - [-3.24054359  2.95662987  0.65928092], Fitness - 19.677434266132334\n",
      "Iteration 7: Best solution - [-2.61855535  3.36074722  2.22997252], Fitness - 23.12423143796609\n",
      "Iteration 8: Best solution - [-2.93656141  2.86727592  3.35337963], Fitness - 28.08981904098512\n",
      "Iteration 9: Best solution - [-2.80633098  1.82262641  1.58024743], Fitness - 13.69464254062581\n",
      "Iteration 10: Best solution - [-2.94958522  2.3526486   2.53219191], Fitness - 20.6470042441853\n",
      "Iteration 11: Best solution - [-2.70008758  1.33025028  2.51903084], Fitness - 15.40555515110163\n",
      "Iteration 12: Best solution - [-1.38225891  1.19981236  1.66385041], Fitness - 6.1185875994197545\n",
      "Iteration 13: Best solution - [-0.17960316  0.5234014   0.01051545], Fitness - 0.30631689281725943\n",
      "Iteration 14: Best solution - [-0.8402777  -0.49444827 -0.65242228], Fitness - 1.3762005451071513\n",
      "Iteration 15: Best solution - [ 0.25171916  0.39832597 -1.33962907], Fitness - 2.016632164819397\n",
      "Iteration 16: Best solution - [ 0.30401588  0.40073688 -1.14745206], Fitness - 1.56966193147497\n",
      "Iteration 17: Best solution - [-1.89919305  1.30374119 -1.96852908], Fitness - 9.181782072434844\n",
      "Iteration 18: Best solution - [-2.1500161   1.66109738 -2.36855848], Fitness - 12.991883037188325\n",
      "Iteration 19: Best solution - [-2.52450783  1.14076905 -4.01025237], Fitness - 23.75661787436481\n",
      "Iteration 20: Best solution - [-2.2961629   0.32987287 -4.13678142], Fitness - 22.494140711913673\n",
      "Iteration 21: Best solution - [-1.7123482  -0.23914897 -4.73040392], Fitness - 25.36604984813073\n",
      "Iteration 22: Best solution - [ 1.53058191  0.4537987  -4.50395319], Fitness - 22.83420859469597\n",
      "Iteration 23: Best solution - [ 0.31880856  0.27492825 -4.40055954], Fitness - 19.54214867480548\n",
      "Iteration 24: Best solution - [ 0.41925643 -1.3763051  -2.96539953], Fitness - 10.863586059513992\n",
      "Iteration 25: Best solution - [-1.07300952 -1.61781544 -3.33925158], Fitness - 14.919277301896543\n",
      "Iteration 26: Best solution - [-2.10122464  0.33028479 -3.529672  ], Fitness - 16.982817497309128\n",
      "Iteration 27: Best solution - [-1.83031078  0.09501995 -3.87626347], Fitness - 18.384484785747333\n",
      "Iteration 28: Best solution - [-0.5266313   0.38233818 -3.31504479], Fitness - 11.413044969930585\n",
      "Iteration 29: Best solution - [-0.46817294  0.11944664 -3.74066691], Fitness - 14.226042300931045\n",
      "Iteration 30: Best solution - [ 0.68251987 -0.99626147 -3.3614182 ], Fitness - 12.757502605984643\n",
      "Iteration 31: Best solution - [ 0.83701386 -1.84587622 -2.43200135], Fitness - 10.022481791308518\n",
      "Iteration 32: Best solution - [ 1.83978312 -1.49462612 -2.40831204], Fitness - 11.418676056413242\n",
      "Iteration 33: Best solution - [ 2.7903989  -1.52725213 -2.2700449 ], Fitness - 15.271928913378247\n",
      "Iteration 34: Best solution - [ 1.15886668 -3.38834707 -2.59141282], Fitness - 19.53928823507406\n",
      "Iteration 35: Best solution - [ 2.53941508 -3.34566121 -2.75220616], Fitness - 25.216716675976727\n",
      "Iteration 36: Best solution - [ 3.01062228 -3.28547024 -1.23713378], Fitness - 21.388661183889365\n",
      "Iteration 37: Best solution - [ 2.1201162  -4.46542617  0.27797751], Fitness - 24.512195071562854\n",
      "Iteration 38: Best solution - [ 2.19844552 -5.15484806 -0.46677489], Fitness - 31.62350004277274\n",
      "Iteration 39: Best solution - [ 1.28652535 -5.54063571 -0.22959687], Fitness - 32.406506207289425\n",
      "Iteration 40: Best solution - [ 0.73280201 -5.10205023  0.78383929], Fitness - 27.18231933985396\n",
      "Iteration 41: Best solution - [ 1.33429704 -5.23153012  0.62192902], Fitness - 29.536051725358757\n",
      "Iteration 42: Best solution - [ 1.00857838 -4.36188763 -0.50415095], Fitness - 20.29746219285259\n",
      "Iteration 43: Best solution - [ 2.59128378 -7.13722517 -0.60004484], Fitness - 58.014788591319366\n",
      "Iteration 44: Best solution - [ 1.63487649 -7.6246469  -0.01558344], Fitness - 60.80830439743905\n",
      "Iteration 45: Best solution - [ 2.88705703 -8.61133999  0.21631193], Fitness - 82.53706547240999\n",
      "Iteration 46: Best solution - [ 2.71518314 -9.10469492 -1.03388036], Fitness - 91.33659771964513\n",
      "Iteration 47: Best solution - [ 2.65337505 -8.7084168   0.80032444], Fitness - 83.51744153461944\n",
      "Iteration 48: Best solution - [ 1.54674553 -6.57891912  0.18731386], Fitness - 45.7096849927137\n",
      "Iteration 49: Best solution - [ 1.10190369 -7.13107668 -0.67995413], Fitness - 52.528784004533655\n",
      "Iteration 50: Best solution - [ 4.88113607e-02 -8.31810249e+00  4.15385490e-03], Fitness - 69.19322886593214\n",
      "Best solution found: [ 4.88113607e-02 -8.31810249e+00  4.15385490e-03], Fitness: 69.19322886593214\n"
     ]
    }
   ],
   "source": [
    "best_solution, best_fitness = clonal_selection_algorithm(dimensions, num_candidates, num_clones, mutation_rate, max_iterations)\n",
    "print(f\"Best solution found: {best_solution}, Fitness: {best_fitness}\")"
   ]
  }
 ],
 "metadata": {
  "colab": {
   "include_colab_link": true,
   "provenance": []
  },
  "kernelspec": {
   "display_name": "Python 3 (ipykernel)",
   "language": "python",
   "name": "python3"
  },
  "language_info": {
   "codemirror_mode": {
    "name": "ipython",
    "version": 3
   },
   "file_extension": ".py",
   "mimetype": "text/x-python",
   "name": "python",
   "nbconvert_exporter": "python",
   "pygments_lexer": "ipython3",
   "version": "3.13.3"
  }
 },
 "nbformat": 4,
 "nbformat_minor": 5
}
